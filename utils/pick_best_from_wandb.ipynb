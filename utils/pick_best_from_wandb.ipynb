{
 "cells": [
  {
   "cell_type": "code",
   "execution_count": 3,
   "id": "d187701b",
   "metadata": {},
   "outputs": [],
   "source": [
    "import wandb\n",
    "import os\n",
    "from omegaconf import OmegaConf\n"
   ]
  },
  {
   "cell_type": "code",
   "execution_count": null,
   "id": "b9e00a2e",
   "metadata": {},
   "outputs": [],
   "source": [
    "ENTITY = \"floly\"               \n",
    "PROJECT = \"effortsim-optuna\"   \n",
    "METRIC = \"best/avg_reward_100\" \n",
    "TOPK = 5                       \n"
   ]
  },
  {
   "cell_type": "code",
   "execution_count": 5,
   "id": "149594f5",
   "metadata": {},
   "outputs": [],
   "source": [
    "api = wandb.Api()\n",
    "runs = api.runs(f\"{ENTITY}/{PROJECT}\")\n",
    "\n",
    "def get_score(r):\n",
    "    return r.summary.get(METRIC, float(\"-inf\"))\n",
    "\n",
    "valid_runs = [r for r in runs if get_score(r) != float(\"-inf\")]\n",
    "valid_runs.sort(key=lambda r: get_score(r), reverse=True)\n",
    "\n",
    "if not valid_runs:\n",
    "    raise ValueError(f\"No valid runs found in project `{PROJECT}` with metric `{METRIC}`.\")\n"
   ]
  },
  {
   "cell_type": "code",
   "execution_count": 6,
   "id": "e1695092",
   "metadata": {},
   "outputs": [
    {
     "name": "stdout",
     "output_type": "stream",
     "text": [
      "\n",
      "🏆 Top 5 runs sorted by `best/avg_reward_100`:\n",
      "\n",
      "trial-30-9cba10df               score= 209.561  lr=0.00030220863975091326  clip=0.3366362052213431  gamma=0.9803970348868488  gae=0.9655754964372536  mb=64  epochs=9\n",
      "trial-37-8594292f               score= 199.201  lr=0.0028419306534024223  clip=0.17586948516313322  gamma=0.978576170113718  gae=0.9642503000446536  mb=256  epochs=14\n",
      "trial-19-5cba18c6               score= 123.356  lr=0.0010837116643555484  clip=0.3383562707679318  gamma=0.971355736958336  gae=0.917290935380037  mb=128  epochs=12\n",
      "trial-29-5a6399ee               score=  98.956  lr=0.002159372797460324  clip=0.2702897824016524  gamma=0.9834992587461344  gae=0.930900289953142  mb=128  epochs=13\n",
      "trial-39-690d9172               score=  85.186  lr=0.0009070212905880988  clip=0.25347866134968033  gamma=0.976174298303572  gae=0.9152871506676956  mb=64  epochs=10\n"
     ]
    }
   ],
   "source": [
    "print(f\"\\n🏆 Top {min(TOPK, len(valid_runs))} runs sorted by `{METRIC}`:\\n\")\n",
    "\n",
    "for r in valid_runs[:TOPK]:\n",
    "    cfg = r.config\n",
    "    score = get_score(r)\n",
    "    print(f\"{r.name or r.id:30s}  score={score:8.3f}  \"\n",
    "          f\"lr={cfg.get('learning_rate')}  clip={cfg.get('eps_clip')}  \"\n",
    "          f\"gamma={cfg.get('gamma')}  gae={cfg.get('gae_lambda')}  \"\n",
    "          f\"mb={cfg.get('mini_batch_size')}  epochs={cfg.get('ppo_epochs')}\")\n"
   ]
  },
  {
   "cell_type": "code",
   "execution_count": 7,
   "id": "60c05951",
   "metadata": {},
   "outputs": [
    {
     "name": "stdout",
     "output_type": "stream",
     "text": [
      "\n",
      "✅ Best config saved to: best/trial-30-9cba10df.yaml\n"
     ]
    }
   ],
   "source": [
    "# Pick best run (index 0)\n",
    "best_run = valid_runs[0]\n",
    "best_cfg = OmegaConf.create(best_run.config)\n",
    "\n",
    "# Save config to disk\n",
    "os.makedirs(\"best\", exist_ok=True)\n",
    "out_path = f\"best/{best_run.name or best_run.id}.yaml\"\n",
    "OmegaConf.save(best_cfg, out_path)\n",
    "\n",
    "print(f\"\\n✅ Best config saved to: {out_path}\")\n"
   ]
  },
  {
   "cell_type": "code",
   "execution_count": null,
   "id": "bcaade5d",
   "metadata": {},
   "outputs": [],
   "source": []
  }
 ],
 "metadata": {
  "kernelspec": {
   "display_name": "effortsim",
   "language": "python",
   "name": "python3"
  },
  "language_info": {
   "codemirror_mode": {
    "name": "ipython",
    "version": 3
   },
   "file_extension": ".py",
   "mimetype": "text/x-python",
   "name": "python",
   "nbconvert_exporter": "python",
   "pygments_lexer": "ipython3",
   "version": "3.10.18"
  }
 },
 "nbformat": 4,
 "nbformat_minor": 5
}
